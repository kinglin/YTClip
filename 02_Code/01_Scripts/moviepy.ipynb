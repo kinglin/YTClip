{
 "cells": [
  {
   "cell_type": "code",
   "execution_count": 1,
   "metadata": {},
   "outputs": [],
   "source": [
    "import numpy as np # for numerical operations\n",
    "from moviepy.editor import VideoFileClip, concatenate\n",
    "\n",
    "clip = VideoFileClip(\"soccer_game.mp4\")\n",
    "cut = lambda i: clip.audio.subclip(i,i+1).to_soundarray(fps=22000)\n",
    "volume = lambda array: np.sqrt(((1.0*array)**2).mean())\n",
    "volumes = [volume(cut(i)) for i in range(0,int(clip.duration-1))]"
   ]
  },
  {
   "cell_type": "code",
   "execution_count": null,
   "metadata": {},
   "outputs": [],
   "source": []
  },
  {
   "cell_type": "code",
   "execution_count": 1,
   "metadata": {},
   "outputs": [
    {
     "name": "stderr",
     "output_type": "stream",
     "text": [
      "C:\\Users\\Shi Yuan\\AppData\\Local\\conda\\conda\\envs\\tensorflow\\lib\\site-packages\\h5py\\__init__.py:36: FutureWarning: Conversion of the second argument of issubdtype from `float` to `np.floating` is deprecated. In future, it will be treated as `np.float64 == np.dtype(float).type`.\n",
      "  from ._conv import register_converters as _register_converters\n"
     ]
    },
    {
     "name": "stdout",
     "output_type": "stream",
     "text": [
      "Found GPU at: /device:GPU:0\n"
     ]
    }
   ],
   "source": [
    "# Connect GPU\n",
    "import tensorflow as tf\n",
    "config = tf.ConfigProto()\n",
    "config.gpu_options.allow_growth = True\n",
    "session = tf.Session(config=config)\n",
    "device_name = tf.test.gpu_device_name()\n",
    "if device_name != '/device:GPU:0':\n",
    "    raise SystemError('GPU device not found')\n",
    "print('Found GPU at: {}'.format(device_name))"
   ]
  },
  {
   "cell_type": "code",
   "execution_count": 39,
   "metadata": {},
   "outputs": [],
   "source": [
    "# Set number of GPUs\n",
    "num_gpus = 1   #defaults to 1 if one-GPU or one-CPU. If 4 GPUs, set to 4.\n",
    "\n",
    "# Set height (y-axis length) and width (x-axis length) to train model on\n",
    "img_height, img_width = (128,128)  #Default to (256,266), use (None,None) if you do not want to resize imgs"
   ]
  },
  {
   "cell_type": "code",
   "execution_count": 288,
   "metadata": {},
   "outputs": [
    {
     "name": "stdout",
     "output_type": "stream",
     "text": [
      "Python       : 3.6.4 |Anaconda custom (64-bit)| (default, Jan 16 2018, 10:22:32) [MSC v.1900 64 bit (AMD64)]\n",
      "Numpy        : 1.15.0\n",
      "Skimage      : 0.13.1\n",
      "Scikit-learn : 0.19.1\n",
      "Keras        : 2.1.6\n",
      "Tensorflow   : 1.5.0\n"
     ]
    }
   ],
   "source": [
    "# Import all the necessary libraries\n",
    "import os\n",
    "import datetime\n",
    "import glob\n",
    "import random\n",
    "import sys\n",
    "import itertools\n",
    "\n",
    "import matplotlib.pyplot as plt\n",
    "import skimage.io                                     #Used for imshow function\n",
    "import skimage.transform                              #Used for resize function\n",
    "from skimage.morphology import label                  #Used for Run-Length-Encoding RLE to create final submission\n",
    "\n",
    "import numpy as np\n",
    "import pandas as pd\n",
    "\n",
    "import keras\n",
    "from keras.layers import Input, Dense, Activation, ZeroPadding2D, BatchNormalization, Flatten, Conv2D, Conv2DTranspose\n",
    "from keras.layers import AveragePooling2D, MaxPooling2D, Dropout, GlobalMaxPooling2D, GlobalAveragePooling2D, Lambda\n",
    "from keras.layers.advanced_activations import LeakyReLU\n",
    "from keras.models import load_model, Model\n",
    "from keras.preprocessing.image import ImageDataGenerator\n",
    "from keras.layers.merge import add, concatenate\n",
    "from keras.callbacks import EarlyStopping, ModelCheckpoint, Callback, ReduceLROnPlateau\n",
    "from keras.utils import multi_gpu_model, plot_model, to_categorical\n",
    "from keras import backend as K\n",
    "from keras import optimizers\n",
    "\n",
    "import tensorflow as tf\n",
    "import sklearn\n",
    "from sklearn import metrics\n",
    "from sklearn.model_selection import train_test_split\n",
    "from sklearn.utils import class_weight\n",
    "\n",
    "print('Python       :', sys.version.split('\\n')[0])\n",
    "print('Numpy        :', np.__version__)\n",
    "print('Skimage      :', skimage.__version__)\n",
    "print('Scikit-learn :', sklearn.__version__)\n",
    "print('Keras        :', keras.__version__)\n",
    "print('Tensorflow   :', tf.__version__)"
   ]
  },
  {
   "cell_type": "code",
   "execution_count": 4,
   "metadata": {},
   "outputs": [],
   "source": [
    "# Set seed values\n",
    "seed = 42\n",
    "random.seed = seed\n",
    "np.random.seed(seed=seed)"
   ]
  },
  {
   "cell_type": "code",
   "execution_count": 5,
   "metadata": {},
   "outputs": [],
   "source": [
    "topDir = 'C:\\\\Users\\\\Shi Yuan\\\\Documents\\\\jupyter\\\\autocut'\n",
    "#train_path = os.path.join(topDir, 'input/stage1_train')  #path to training data file/folder\n",
    "train_path = os.path.join(topDir, 'train')  #path to training data file/folder\n",
    "\n",
    "#test_path = os.path.join(topDir, 'input/stage1_test')   #path to test data file/folder\n",
    "#test_path = os.path.join(topDir, 'stage1_test')   #path to test data file/folder\n",
    "test_path = os.path.join(topDir, 'test')   #path to test data file/folder"
   ]
  },
  {
   "cell_type": "code",
   "execution_count": 6,
   "metadata": {},
   "outputs": [
    {
     "data": {
      "text/plain": [
       "'C:\\\\Users\\\\Shi Yuan\\\\Documents\\\\jupyter\\\\autocut\\\\train'"
      ]
     },
     "execution_count": 6,
     "metadata": {},
     "output_type": "execute_result"
    }
   ],
   "source": [
    "train_path"
   ]
  },
  {
   "cell_type": "markdown",
   "metadata": {},
   "source": [
    "# Part 1 - Data Input"
   ]
  },
  {
   "cell_type": "code",
   "execution_count": 118,
   "metadata": {},
   "outputs": [],
   "source": [
    "def crop_img(img, scale=1.0):\n",
    "    center_x, center_y = img.shape[1] / 2, img.shape[0] / 2\n",
    "    width_scaled, height_scaled = img.shape[1] * scale, img.shape[0] * scale\n",
    "    left_x, right_x = center_x - width_scaled / 2, center_x + width_scaled / 2\n",
    "    top_y, bottom_y = center_y - height_scaled / 2, center_y + height_scaled / 2\n",
    "    img_cropped = img[int(top_y):int(bottom_y), int(left_x):int(right_x)]\n",
    "    return img_cropped\n",
    "\n",
    "def crop_img_banner(img, width=0.5, height=0.4):\n",
    "    center_x, center_y = img.shape[1] / 2, img.shape[0] / 2\n",
    "    width_scaled, height_scaled = img.shape[1] * width, img.shape[0] * height\n",
    "    left_x, right_x = center_x - width_scaled / 2, center_x + width_scaled / 2\n",
    "    top_y, bottom_y = 0, 0 + height_scaled\n",
    "    img_cropped = img[int(top_y):int(bottom_y), int(left_x):int(right_x)]\n",
    "    return img_cropped\n"
   ]
  },
  {
   "cell_type": "code",
   "execution_count": 119,
   "metadata": {},
   "outputs": [
    {
     "data": {
      "text/plain": [
       "{'double_kill': 1, 'first_blood': 1, 'none': 1, 'triple_kill': 1, 'wipe': 1}"
      ]
     },
     "execution_count": 119,
     "metadata": {},
     "output_type": "execute_result"
    }
   ],
   "source": [
    "# get all classes\n",
    "label = []\n",
    "for i, items in enumerate(os.listdir(train_path)):\n",
    "    label.append(i)\n",
    "label\n",
    "\n",
    "dict.fromkeys(os.listdir(train_path) , 1)"
   ]
  },
  {
   "cell_type": "code",
   "execution_count": 120,
   "metadata": {},
   "outputs": [
    {
     "data": {
      "text/plain": [
       "['C:\\\\Users\\\\Shi Yuan\\\\Documents\\\\jupyter\\\\autocut\\\\train']"
      ]
     },
     "execution_count": 120,
     "metadata": {},
     "output_type": "execute_result"
    }
   ],
   "source": [
    "glob(train_path)"
   ]
  },
  {
   "cell_type": "code",
   "execution_count": 173,
   "metadata": {},
   "outputs": [
    {
     "data": {
      "text/plain": [
       "((1094, 128, 128, 3), (1094,))"
      ]
     },
     "execution_count": 173,
     "metadata": {},
     "output_type": "execute_result"
    }
   ],
   "source": [
    "from glob import glob\n",
    "import cv2\n",
    "\n",
    "# Import training dataset\n",
    "X_train = []\n",
    "Y_train = []\n",
    "for dir_path in glob(os.path.join(train_path,'*')):\n",
    "    img_label = dir_path.split(\"\\\\\")[-1]\n",
    "    for img_path in glob(os.path.join(dir_path, \"*.jpg\")):\n",
    "        img = cv2.imread(img_path)\n",
    "        img = crop_img_banner(img, width=0.5, height=0.4)\n",
    "        img = cv2.resize(img, (img_height, img_width))\n",
    "        img = cv2.cvtColor(img, cv2.COLOR_BGR2RGB)\n",
    "        X_train.append(img)\n",
    "        Y_train.append(img_label)\n",
    "X_train = np.array(X_train)\n",
    "X_train = X_train/255\n",
    "Y_train = np.array(Y_train)\n",
    "\n",
    "X_train.shape, Y_train.shape"
   ]
  },
  {
   "cell_type": "code",
   "execution_count": 174,
   "metadata": {},
   "outputs": [
    {
     "data": {
      "text/plain": [
       "((820, 128, 128, 3), (274, 128, 128, 3), (820,), (274,))"
      ]
     },
     "execution_count": 174,
     "metadata": {},
     "output_type": "execute_result"
    }
   ],
   "source": [
    "X_train, X_valid, Y_train, Y_valid = train_test_split(X_train, Y_train, test_size=0.25, random_state=seed, shuffle=True, stratify=Y_train)\n",
    "X_train.shape, X_valid.shape, Y_train.shape, Y_valid.shape"
   ]
  },
  {
   "cell_type": "code",
   "execution_count": 175,
   "metadata": {},
   "outputs": [
    {
     "data": {
      "text/plain": [
       "array([[[[0.27843137, 0.34117647, 0.29803922],\n",
       "         [0.29803922, 0.36470588, 0.3254902 ],\n",
       "         [0.28627451, 0.35686275, 0.30980392],\n",
       "         ...,\n",
       "         [0.44313725, 0.47843137, 0.10588235],\n",
       "         [0.4       , 0.40392157, 0.12941176],\n",
       "         [0.40784314, 0.39215686, 0.14901961]],\n",
       "\n",
       "        [[0.27843137, 0.34117647, 0.29803922],\n",
       "         [0.28627451, 0.35294118, 0.31372549],\n",
       "         [0.28627451, 0.35686275, 0.30980392],\n",
       "         ...,\n",
       "         [0.42745098, 0.46666667, 0.08235294],\n",
       "         [0.40392157, 0.41176471, 0.1254902 ],\n",
       "         [0.41176471, 0.39215686, 0.14901961]],\n",
       "\n",
       "        [[0.27843137, 0.34117647, 0.29803922],\n",
       "         [0.27843137, 0.34509804, 0.30196078],\n",
       "         [0.29411765, 0.36470588, 0.31764706],\n",
       "         ...,\n",
       "         [0.40784314, 0.45098039, 0.05490196],\n",
       "         [0.40392157, 0.41176471, 0.1254902 ],\n",
       "         [0.41176471, 0.39607843, 0.14901961]],\n",
       "\n",
       "        ...,\n",
       "\n",
       "        [[0.30588235, 0.38431373, 0.37254902],\n",
       "         [0.30196078, 0.38039216, 0.3372549 ],\n",
       "         [0.29803922, 0.36862745, 0.35294118],\n",
       "         ...,\n",
       "         [0.38039216, 0.50588235, 0.24705882],\n",
       "         [0.34901961, 0.52156863, 0.21176471],\n",
       "         [0.25882353, 0.44313725, 0.16862745]],\n",
       "\n",
       "        [[0.30196078, 0.38431373, 0.36862745],\n",
       "         [0.29019608, 0.37647059, 0.3254902 ],\n",
       "         [0.28627451, 0.36078431, 0.3372549 ],\n",
       "         ...,\n",
       "         [0.4       , 0.53333333, 0.24705882],\n",
       "         [0.3254902 , 0.50196078, 0.2       ],\n",
       "         [0.22352941, 0.40784314, 0.13333333]],\n",
       "\n",
       "        [[0.29803922, 0.38039216, 0.34901961],\n",
       "         [0.28627451, 0.36470588, 0.32941176],\n",
       "         [0.27843137, 0.35294118, 0.32941176],\n",
       "         ...,\n",
       "         [0.37647059, 0.52156863, 0.21960784],\n",
       "         [0.25882353, 0.44313725, 0.1372549 ],\n",
       "         [0.23529412, 0.43529412, 0.14901961]]],\n",
       "\n",
       "\n",
       "       [[[0.45098039, 0.43921569, 0.12941176],\n",
       "         [0.43137255, 0.42745098, 0.11372549],\n",
       "         [0.43921569, 0.43137255, 0.12941176],\n",
       "         ...,\n",
       "         [0.46666667, 0.43921569, 0.23529412],\n",
       "         [0.48235294, 0.45490196, 0.25098039],\n",
       "         [0.49019608, 0.4627451 , 0.25882353]],\n",
       "\n",
       "        [[0.45882353, 0.44705882, 0.1372549 ],\n",
       "         [0.43137255, 0.42352941, 0.10980392],\n",
       "         [0.44313725, 0.43529412, 0.13333333],\n",
       "         ...,\n",
       "         [0.49019608, 0.4627451 , 0.25882353],\n",
       "         [0.48627451, 0.45882353, 0.25490196],\n",
       "         [0.49019608, 0.4627451 , 0.25882353]],\n",
       "\n",
       "        [[0.46666667, 0.45490196, 0.14901961],\n",
       "         [0.43529412, 0.43137255, 0.11764706],\n",
       "         [0.44705882, 0.43921569, 0.1372549 ],\n",
       "         ...,\n",
       "         [0.49803922, 0.47058824, 0.26666667],\n",
       "         [0.49019608, 0.4627451 , 0.25882353],\n",
       "         [0.48627451, 0.45882353, 0.25490196]],\n",
       "\n",
       "        ...,\n",
       "\n",
       "        [[0.45882353, 0.50980392, 0.34117647],\n",
       "         [0.45490196, 0.52156863, 0.35294118],\n",
       "         [0.45882353, 0.5254902 , 0.35294118],\n",
       "         ...,\n",
       "         [0.49803922, 0.45098039, 0.21568627],\n",
       "         [0.50980392, 0.47058824, 0.22745098],\n",
       "         [0.52156863, 0.4627451 , 0.23921569]],\n",
       "\n",
       "        [[0.44705882, 0.51372549, 0.34901961],\n",
       "         [0.45098039, 0.52156863, 0.36078431],\n",
       "         [0.45490196, 0.5254902 , 0.36078431],\n",
       "         ...,\n",
       "         [0.49803922, 0.45882353, 0.21568627],\n",
       "         [0.51372549, 0.47058824, 0.22745098],\n",
       "         [0.52156863, 0.4627451 , 0.23137255]],\n",
       "\n",
       "        [[0.43921569, 0.51372549, 0.35686275],\n",
       "         [0.44705882, 0.52156863, 0.36470588],\n",
       "         [0.44705882, 0.5254902 , 0.35686275],\n",
       "         ...,\n",
       "         [0.49411765, 0.4627451 , 0.21568627],\n",
       "         [0.49803922, 0.4627451 , 0.21176471],\n",
       "         [0.51764706, 0.45882353, 0.22745098]]],\n",
       "\n",
       "\n",
       "       [[[0.30588235, 0.4627451 , 0.36862745],\n",
       "         [0.30980392, 0.46666667, 0.37254902],\n",
       "         [0.31372549, 0.47058824, 0.37647059],\n",
       "         ...,\n",
       "         [0.47058824, 0.45490196, 0.16470588],\n",
       "         [0.4627451 , 0.44705882, 0.16078431],\n",
       "         [0.4627451 , 0.43529412, 0.16078431]],\n",
       "\n",
       "        [[0.30980392, 0.46666667, 0.37254902],\n",
       "         [0.30980392, 0.46666667, 0.37254902],\n",
       "         [0.31764706, 0.4745098 , 0.38039216],\n",
       "         ...,\n",
       "         [0.47058824, 0.45490196, 0.16862745],\n",
       "         [0.4627451 , 0.44705882, 0.16078431],\n",
       "         [0.4627451 , 0.43529412, 0.16862745]],\n",
       "\n",
       "        [[0.31372549, 0.47058824, 0.37647059],\n",
       "         [0.31372549, 0.47058824, 0.37647059],\n",
       "         [0.3254902 , 0.48235294, 0.38823529],\n",
       "         ...,\n",
       "         [0.4745098 , 0.45882353, 0.17254902],\n",
       "         [0.46666667, 0.45098039, 0.17254902],\n",
       "         [0.45490196, 0.43529412, 0.16470588]],\n",
       "\n",
       "        ...,\n",
       "\n",
       "        [[0.28235294, 0.43529412, 0.36470588],\n",
       "         [0.27843137, 0.43137255, 0.36078431],\n",
       "         [0.27843137, 0.43137255, 0.36078431],\n",
       "         ...,\n",
       "         [0.28235294, 0.42745098, 0.36078431],\n",
       "         [0.29411765, 0.43921569, 0.37254902],\n",
       "         [0.30196078, 0.44705882, 0.37647059]],\n",
       "\n",
       "        [[0.28235294, 0.43529412, 0.36078431],\n",
       "         [0.27843137, 0.43137255, 0.36078431],\n",
       "         [0.27843137, 0.43137255, 0.36078431],\n",
       "         ...,\n",
       "         [0.27843137, 0.42352941, 0.35686275],\n",
       "         [0.29019608, 0.43529412, 0.36862745],\n",
       "         [0.29803922, 0.44313725, 0.37254902]],\n",
       "\n",
       "        [[0.27843137, 0.43137255, 0.35686275],\n",
       "         [0.2745098 , 0.42745098, 0.35686275],\n",
       "         [0.2745098 , 0.42745098, 0.35686275],\n",
       "         ...,\n",
       "         [0.27843137, 0.42352941, 0.35686275],\n",
       "         [0.28627451, 0.43137255, 0.36470588],\n",
       "         [0.29019608, 0.43529412, 0.36862745]]],\n",
       "\n",
       "\n",
       "       ...,\n",
       "\n",
       "\n",
       "       [[[0.51764706, 0.46666667, 0.25882353],\n",
       "         [0.5254902 , 0.46666667, 0.2627451 ],\n",
       "         [0.5254902 , 0.4627451 , 0.25882353],\n",
       "         ...,\n",
       "         [0.17647059, 0.14117647, 0.16862745],\n",
       "         [0.16862745, 0.14117647, 0.14509804],\n",
       "         [0.17254902, 0.15294118, 0.11764706]],\n",
       "\n",
       "        [[0.51372549, 0.4627451 , 0.25490196],\n",
       "         [0.52156863, 0.47058824, 0.2627451 ],\n",
       "         [0.52941176, 0.47058824, 0.26666667],\n",
       "         ...,\n",
       "         [0.16470588, 0.16862745, 0.20784314],\n",
       "         [0.16470588, 0.16862745, 0.20392157],\n",
       "         [0.16470588, 0.16862745, 0.19607843]],\n",
       "\n",
       "        [[0.51372549, 0.4627451 , 0.25490196],\n",
       "         [0.51764706, 0.46666667, 0.25882353],\n",
       "         [0.52941176, 0.47843137, 0.27058824],\n",
       "         ...,\n",
       "         [0.12156863, 0.16470588, 0.14901961],\n",
       "         [0.12156863, 0.16078431, 0.16470588],\n",
       "         [0.11764706, 0.15686275, 0.16470588]],\n",
       "\n",
       "        ...,\n",
       "\n",
       "        [[0.42352941, 0.4       , 0.19607843],\n",
       "         [0.45098039, 0.44313725, 0.23137255],\n",
       "         [0.48235294, 0.45882353, 0.25490196],\n",
       "         ...,\n",
       "         [0.40392157, 0.38431373, 0.16862745],\n",
       "         [0.41568627, 0.38823529, 0.17254902],\n",
       "         [0.42745098, 0.4       , 0.18039216]],\n",
       "\n",
       "        [[0.45490196, 0.43137255, 0.22745098],\n",
       "         [0.42352941, 0.41176471, 0.20392157],\n",
       "         [0.45490196, 0.43921569, 0.23137255],\n",
       "         ...,\n",
       "         [0.40784314, 0.38039216, 0.17254902],\n",
       "         [0.41960784, 0.4       , 0.18039216],\n",
       "         [0.43529412, 0.41568627, 0.2       ]],\n",
       "\n",
       "        [[0.43921569, 0.41960784, 0.21568627],\n",
       "         [0.43921569, 0.42745098, 0.21960784],\n",
       "         [0.44705882, 0.43529412, 0.22745098],\n",
       "         ...,\n",
       "         [0.41960784, 0.38823529, 0.19607843],\n",
       "         [0.42352941, 0.4       , 0.19607843],\n",
       "         [0.44313725, 0.41960784, 0.20784314]]],\n",
       "\n",
       "\n",
       "       [[[0.36862745, 0.31372549, 0.16862745],\n",
       "         [0.21176471, 0.16078431, 0.09411765],\n",
       "         [0.2       , 0.16862745, 0.09411765],\n",
       "         ...,\n",
       "         [0.44313725, 0.43921569, 0.3372549 ],\n",
       "         [0.4627451 , 0.42352941, 0.10588235],\n",
       "         [0.48235294, 0.44313725, 0.12941176]],\n",
       "\n",
       "        [[0.39215686, 0.35294118, 0.19607843],\n",
       "         [0.30588235, 0.25882353, 0.18039216],\n",
       "         [0.21176471, 0.18039216, 0.10588235],\n",
       "         ...,\n",
       "         [0.41176471, 0.42745098, 0.32156863],\n",
       "         [0.43137255, 0.40784314, 0.09019608],\n",
       "         [0.45490196, 0.42352941, 0.1254902 ]],\n",
       "\n",
       "        [[0.47058824, 0.43529412, 0.27058824],\n",
       "         [0.39607843, 0.34901961, 0.25882353],\n",
       "         [0.20784314, 0.17647059, 0.09019608],\n",
       "         ...,\n",
       "         [0.38431373, 0.41568627, 0.28627451],\n",
       "         [0.42745098, 0.43137255, 0.09803922],\n",
       "         [0.42745098, 0.40784314, 0.11372549]],\n",
       "\n",
       "        ...,\n",
       "\n",
       "        [[0.25882353, 0.24705882, 0.34117647],\n",
       "         [0.24705882, 0.23921569, 0.2627451 ],\n",
       "         [0.20392157, 0.21176471, 0.16078431],\n",
       "         ...,\n",
       "         [0.49411765, 0.45490196, 0.24705882],\n",
       "         [0.48627451, 0.44705882, 0.24705882],\n",
       "         [0.45882353, 0.42745098, 0.23529412]],\n",
       "\n",
       "        [[0.24313725, 0.23137255, 0.28235294],\n",
       "         [0.27843137, 0.26666667, 0.22352941],\n",
       "         [0.25098039, 0.2627451 , 0.16470588],\n",
       "         ...,\n",
       "         [0.49411765, 0.45490196, 0.24705882],\n",
       "         [0.48235294, 0.44313725, 0.23529412],\n",
       "         [0.45882353, 0.42745098, 0.23529412]],\n",
       "\n",
       "        [[0.18431373, 0.18039216, 0.16862745],\n",
       "         [0.29019608, 0.27843137, 0.16078431],\n",
       "         [0.28235294, 0.29803922, 0.14901961],\n",
       "         ...,\n",
       "         [0.48627451, 0.44705882, 0.23921569],\n",
       "         [0.48235294, 0.44313725, 0.23529412],\n",
       "         [0.45882353, 0.42745098, 0.23137255]]],\n",
       "\n",
       "\n",
       "       [[[0.39607843, 0.20392157, 0.32156863],\n",
       "         [0.49803922, 0.3372549 , 0.47058824],\n",
       "         [0.38823529, 0.24705882, 0.39607843],\n",
       "         ...,\n",
       "         [0.25882353, 0.0745098 , 0.23921569],\n",
       "         [0.2745098 , 0.10588235, 0.28235294],\n",
       "         [0.19607843, 0.04313725, 0.26666667]],\n",
       "\n",
       "        [[0.39607843, 0.20392157, 0.32156863],\n",
       "         [0.59607843, 0.43529412, 0.56862745],\n",
       "         [0.38431373, 0.24313725, 0.39215686],\n",
       "         ...,\n",
       "         [0.30588235, 0.11764706, 0.29803922],\n",
       "         [0.2745098 , 0.12156863, 0.31372549],\n",
       "         [0.26666667, 0.14117647, 0.36470588]],\n",
       "\n",
       "        [[0.39607843, 0.20784314, 0.32156863],\n",
       "         [0.63921569, 0.47843137, 0.61176471],\n",
       "         [0.4       , 0.25882353, 0.40784314],\n",
       "         ...,\n",
       "         [0.29803922, 0.10980392, 0.31372549],\n",
       "         [0.2745098 , 0.14117647, 0.35686275],\n",
       "         [0.54509804, 0.43921569, 0.66666667]],\n",
       "\n",
       "        ...,\n",
       "\n",
       "        [[0.50196078, 0.30588235, 0.45098039],\n",
       "         [0.47843137, 0.28627451, 0.4       ],\n",
       "         [0.44705882, 0.26666667, 0.36862745],\n",
       "         ...,\n",
       "         [0.30588235, 0.07058824, 0.17254902],\n",
       "         [0.30196078, 0.0745098 , 0.17254902],\n",
       "         [0.29803922, 0.07058824, 0.16862745]],\n",
       "\n",
       "        [[0.50196078, 0.30588235, 0.45098039],\n",
       "         [0.48235294, 0.29019608, 0.40392157],\n",
       "         [0.44705882, 0.26666667, 0.36862745],\n",
       "         ...,\n",
       "         [0.30588235, 0.07058824, 0.17254902],\n",
       "         [0.29803922, 0.07058824, 0.16862745],\n",
       "         [0.29803922, 0.07058824, 0.16862745]],\n",
       "\n",
       "        [[0.50588235, 0.30196078, 0.45098039],\n",
       "         [0.48235294, 0.29019608, 0.40784314],\n",
       "         [0.44705882, 0.26666667, 0.37647059],\n",
       "         ...,\n",
       "         [0.30588235, 0.07058824, 0.17254902],\n",
       "         [0.29803922, 0.07058824, 0.16862745],\n",
       "         [0.29411765, 0.06666667, 0.16470588]]]])"
      ]
     },
     "execution_count": 175,
     "metadata": {},
     "output_type": "execute_result"
    }
   ],
   "source": [
    "X_train"
   ]
  },
  {
   "cell_type": "code",
   "execution_count": 128,
   "metadata": {},
   "outputs": [
    {
     "data": {
      "text/plain": [
       "<matplotlib.image.AxesImage at 0x2ed97f64668>"
      ]
     },
     "execution_count": 128,
     "metadata": {},
     "output_type": "execute_result"
    },
    {
     "data": {
      "image/png": "[encoded data removed]",
      "text/plain": [
       "<matplotlib.figure.Figure at 0x2ed9447acc0>"
      ]
     },
     "metadata": {},
     "output_type": "display_data"
    }
   ],
   "source": [
    "plt.imshow(X_train[3])"
   ]
  },
  {
   "cell_type": "code",
   "execution_count": 109,
   "metadata": {},
   "outputs": [],
   "source": [
    "# Import test dataset"
   ]
  },
  {
   "cell_type": "code",
   "execution_count": 176,
   "metadata": {},
   "outputs": [
    {
     "data": {
      "text/plain": [
       "{0: 'double_kill', 1: 'first_blood', 2: 'none', 3: 'triple_kill', 4: 'wipe'}"
      ]
     },
     "execution_count": 176,
     "metadata": {},
     "output_type": "execute_result"
    }
   ],
   "source": [
    "label_to_id = {v : k for k, v in enumerate(np.unique(Y_train))}\n",
    "id_to_label = {v : k for k, v in label_to_id.items()}\n",
    "\n",
    "id_to_label"
   ]
  },
  {
   "cell_type": "code",
   "execution_count": 178,
   "metadata": {},
   "outputs": [
    {
     "data": {
      "text/plain": [
       "array([2, 2, 2, 2, 2, 2, 2, 2, 2, 2, 2, 2, 2, 2, 2, 2, 2, 2, 2, 2, 2, 2,\n",
       "       2, 2, 2, 2, 2, 2, 2, 2, 2, 2, 2, 2, 2, 2, 2, 2, 2, 2, 2, 0, 2, 2,\n",
       "       2, 2, 2, 2, 2, 2, 2, 4, 2, 2, 2, 2, 2, 2, 2, 2, 2, 2, 2, 2, 2, 2,\n",
       "       2, 2, 2, 2, 2, 2, 2, 2, 2, 2, 2, 2, 2, 2, 2, 2, 2, 2, 2, 2, 2, 2,\n",
       "       2, 2, 2, 2, 2, 2, 2, 2, 2, 2, 2, 2, 2, 2, 2, 2, 2, 2, 2, 2, 2, 2,\n",
       "       2, 2, 2, 2, 0, 2, 2, 2, 2, 2, 2, 2, 2, 2, 2, 2, 2, 2, 2, 2, 2, 2,\n",
       "       2, 2, 2, 2, 2, 2, 2, 2, 2, 2, 2, 2, 2, 2, 2, 2, 2, 2, 2, 2, 2, 2,\n",
       "       2, 2, 2, 2, 2, 2, 2, 2, 2, 2, 3, 2, 2, 2, 2, 2, 2, 2, 2, 2, 2, 2,\n",
       "       2, 2, 2, 2, 2, 2, 2, 2, 2, 2, 2, 2, 2, 2, 2, 2, 2, 2, 0, 2, 2, 2,\n",
       "       2, 2, 2, 2, 2, 2, 2, 2, 2, 2, 2, 2, 2, 2, 2, 2, 2, 3, 2, 2, 2, 2,\n",
       "       2, 2, 2, 2, 2, 4, 2, 2, 2, 2, 2, 2, 2, 2, 2, 2, 2, 2, 2, 2, 2, 2,\n",
       "       2, 2, 2, 2, 2, 2, 2, 2, 2, 2, 2, 2, 2, 2, 2, 2, 2, 2, 2, 2, 2, 2,\n",
       "       2, 2, 2, 2, 2, 2, 2, 2, 2, 2, 2, 2, 2, 2, 1, 2, 2, 2, 2, 2, 2, 2,\n",
       "       2, 2, 2, 2, 2, 2, 2, 2, 2, 2, 2, 2, 2, 2, 2, 2, 2, 2, 2, 2, 2, 2,\n",
       "       2, 2, 2, 2, 2, 2, 2, 2, 2, 2, 2, 2, 2, 2, 2, 2, 2, 2, 2, 2, 2, 2,\n",
       "       2, 2, 2, 2, 2, 2, 2, 2, 2, 2, 2, 2, 2, 2, 2, 2, 2, 2, 2, 2, 2, 2,\n",
       "       2, 2, 2, 2, 2, 2, 2, 2, 2, 2, 2, 2, 2, 2, 0, 2, 2, 2, 2, 2, 0, 2,\n",
       "       2, 2, 2, 2, 2, 2, 2, 2, 2, 2, 2, 2, 2, 2, 2, 2, 2, 2, 2, 2, 2, 2,\n",
       "       2, 2, 2, 2, 2, 2, 2, 2, 2, 2, 2, 2, 2, 2, 2, 2, 2, 2, 2, 2, 2, 2,\n",
       "       2, 2, 2, 0, 2, 2, 2, 2, 2, 2, 2, 2, 2, 2, 2, 2, 2, 2, 2, 2, 2, 2,\n",
       "       2, 2, 2, 2, 2, 2, 2, 2, 2, 2, 2, 2, 2, 2, 2, 2, 2, 2, 2, 2, 2, 2,\n",
       "       2, 2, 2, 2, 2, 4, 2, 2, 2, 2, 2, 2, 2, 2, 2, 2, 2, 2, 2, 4, 2, 2,\n",
       "       2, 2, 2, 2, 2, 2, 2, 2, 2, 2, 2, 2, 2, 2, 2, 2, 2, 2, 2, 2, 2, 2,\n",
       "       2, 2, 2, 2, 2, 2, 2, 2, 2, 2, 2, 2, 2, 2, 2, 2, 2, 2, 4, 2, 1, 2,\n",
       "       2, 2, 2, 2, 2, 2, 2, 2, 2, 2, 2, 2, 2, 2, 2, 2, 2, 2, 2, 2, 2, 2,\n",
       "       2, 2, 2, 2, 2, 2, 2, 2, 2, 2, 2, 2, 2, 2, 2, 2, 2, 2, 2, 2, 2, 2,\n",
       "       2, 2, 2, 2, 2, 2, 2, 2, 2, 2, 2, 2, 2, 2, 2, 2, 2, 2, 2, 2, 2, 2,\n",
       "       2, 2, 2, 2, 2, 2, 2, 2, 2, 2, 0, 2, 2, 2, 2, 2, 2, 2, 2, 2, 2, 2,\n",
       "       2, 2, 2, 2, 2, 2, 2, 2, 2, 2, 2, 2, 3, 2, 2, 2, 2, 2, 2, 2, 2, 2,\n",
       "       2, 2, 2, 2, 2, 2, 2, 0, 2, 2, 2, 2, 2, 2, 2, 2, 2, 2, 2, 2, 2, 2,\n",
       "       2, 2, 2, 2, 2, 2, 2, 2, 2, 0, 2, 2, 2, 2, 2, 2, 2, 2, 2, 2, 2, 2,\n",
       "       2, 2, 2, 2, 2, 2, 2, 2, 2, 2, 2, 2, 2, 2, 2, 2, 2, 2, 2, 2, 2, 2,\n",
       "       2, 2, 2, 2, 2, 2, 2, 2, 2, 2, 2, 2, 2, 2, 2, 2, 2, 2, 2, 2, 2, 2,\n",
       "       2, 2, 2, 2, 2, 2, 2, 2, 2, 2, 2, 2, 2, 2, 2, 2, 2, 2, 2, 2, 2, 2,\n",
       "       2, 2, 2, 2, 2, 2, 2, 2, 2, 2, 0, 2, 2, 2, 2, 2, 2, 2, 2, 2, 2, 2,\n",
       "       2, 2, 2, 2, 2, 2, 2, 2, 2, 2, 2, 2, 2, 2, 2, 2, 2, 2, 2, 2, 2, 2,\n",
       "       2, 2, 2, 2, 0, 2, 2, 2, 2, 2, 2, 2, 2, 2, 2, 2, 2, 2, 3, 2, 2, 2,\n",
       "       2, 2, 2, 2, 4, 2])"
      ]
     },
     "execution_count": 178,
     "metadata": {},
     "output_type": "execute_result"
    }
   ],
   "source": [
    "Y_train_id = np.array([label_to_id[i] for i in Y_train])\n",
    "Y_valid_id = np.array([label_to_id[i] for i in Y_valid])\n",
    "# test_label_id = np.array([label_to_id[i] for i in test_label])\n",
    "# test_label_id\n",
    "Y_train_id"
   ]
  },
  {
   "cell_type": "code",
   "execution_count": 161,
   "metadata": {},
   "outputs": [
    {
     "data": {
      "text/plain": [
       "(1094,)"
      ]
     },
     "execution_count": 161,
     "metadata": {},
     "output_type": "execute_result"
    }
   ],
   "source": [
    "Y_train_id.shape"
   ]
  },
  {
   "cell_type": "code",
   "execution_count": 179,
   "metadata": {},
   "outputs": [
    {
     "data": {
      "text/plain": [
       "Text(0.5,1,'Historgram of each class label in train dataset')"
      ]
     },
     "execution_count": 179,
     "metadata": {},
     "output_type": "execute_result"
    },
    {
     "data": {
      "image/png": "[encoded data removed]",
      "text/plain": [
       "<matplotlib.figure.Figure at 0x2ed9a2b6dd8>"
      ]
     },
     "metadata": {},
     "output_type": "display_data"
    }
   ],
   "source": [
    "y = np.bincount(Y_train_id)\n",
    "ii = np.nonzero(y)[0]\n",
    "plt.bar(np.unique(Y_train_id), y[ii], color=\"#87CEFA\", edgecolor=\"Black\")\n",
    "plt.xlabel('Class Labels')\n",
    "plt.ylabel('Count')\n",
    "plt.title('Historgram of each class label in train dataset')"
   ]
  },
  {
   "cell_type": "code",
   "execution_count": 180,
   "metadata": {},
   "outputs": [
    {
     "data": {
      "text/plain": [
       "Text(0.5,1,'Historgram of each class label in validation dataset')"
      ]
     },
     "execution_count": 180,
     "metadata": {},
     "output_type": "execute_result"
    },
    {
     "data": {
      "image/png": "[encoded data removed]",
      "text/plain": [
       "<matplotlib.figure.Figure at 0x2ed9a2bc860>"
      ]
     },
     "metadata": {},
     "output_type": "display_data"
    }
   ],
   "source": [
    "y = np.bincount(Y_valid_id)\n",
    "ii = np.nonzero(y)[0]\n",
    "plt.bar(np.unique(Y_valid_id), y[ii], color=\"#87CEFA\", edgecolor=\"Black\")\n",
    "plt.xlabel('Class Labels')\n",
    "plt.ylabel('Count')\n",
    "plt.title('Historgram of each class label in validation dataset')"
   ]
  },
  {
   "cell_type": "code",
   "execution_count": 181,
   "metadata": {},
   "outputs": [
    {
     "data": {
      "text/plain": [
       "array([[0., 0., 1., 0., 0.],\n",
       "       [0., 0., 1., 0., 0.],\n",
       "       [0., 0., 1., 0., 0.],\n",
       "       ...,\n",
       "       [0., 0., 1., 0., 0.],\n",
       "       [0., 0., 0., 0., 1.],\n",
       "       [0., 0., 1., 0., 0.]], dtype=float32)"
      ]
     },
     "execution_count": 181,
     "metadata": {},
     "output_type": "execute_result"
    }
   ],
   "source": [
    "# convert the labels from integers to vectors\n",
    "Y_train_id = to_categorical(Y_train_id)\n",
    "Y_valid_id = to_categorical(Y_valid_id)\n",
    "Y_train_id"
   ]
  },
  {
   "cell_type": "code",
   "execution_count": 204,
   "metadata": {},
   "outputs": [
    {
     "data": {
      "text/plain": [
       "{0: 0.0901133483459433,\n",
       " 1: 0.49562341590268816,\n",
       " 2: 0.001243722499128452,\n",
       " 3: 0.24781170795134408,\n",
       " 4: 0.16520780530089604}"
      ]
     },
     "execution_count": 204,
     "metadata": {},
     "output_type": "execute_result"
    }
   ],
   "source": [
    "y_integers = np.argmax(Y_train_id, axis=1)\n",
    "class_weights = class_weight.compute_class_weight('balanced', np.unique(y_integers), y_integers)\n",
    "class_weights = class_weights/np.sum(class_weights)\n",
    "d_class_weights = dict(enumerate(class_weights))\n",
    "sample_weights = class_weight.compute_sample_weight('balanced', y_integers)\n",
    "sample_weights = sample_weights/np.sum(sample_weights)\n",
    "\n",
    "y_valid_integers = np.argmax(Y_valid_id, axis=1)\n",
    "sample_weights_valid = class_weight.compute_sample_weight('balanced', y_valid_integers)\n",
    "sample_weights_valid = sample_weights_valid/np.sum(sample_weights_valid)\n",
    "\n",
    "d_class_weights\n",
    "# sample_weights"
   ]
  },
  {
   "cell_type": "code",
   "execution_count": null,
   "metadata": {},
   "outputs": [],
   "source": []
  },
  {
   "cell_type": "code",
   "execution_count": 206,
   "metadata": {},
   "outputs": [
    {
     "data": {
      "text/plain": [
       "5"
      ]
     },
     "execution_count": 206,
     "metadata": {},
     "output_type": "execute_result"
    }
   ],
   "source": [
    "Y_train_id.shape[1]"
   ]
  },
  {
   "cell_type": "code",
   "execution_count": 207,
   "metadata": {},
   "outputs": [],
   "source": [
    "# # Runtime data augmentation\n",
    "# def get_train_test_augmented(X_data=X_train, Y_data=Y_train, validation_split=0.25, batch_size=32, seed=seed):\n",
    "#     X_train, X_test, Y_train, Y_test = train_test_split(X_data,\n",
    "#                                                         Y_data,\n",
    "#                                                         train_size=1-validation_split,\n",
    "#                                                         test_size=validation_split,\n",
    "#                                                         random_state=seed)\n",
    "    \n",
    "#     # Image data generator distortion options\n",
    "#     data_gen_args = dict(rotation_range=45.,\n",
    "#                          width_shift_range=0.1,\n",
    "#                          height_shift_range=0.1,\n",
    "#                          shear_range=0.2,\n",
    "#                          zoom_range=0.2,\n",
    "#                          horizontal_flip=True,\n",
    "#                          vertical_flip=True,\n",
    "#                          fill_mode='reflect')  #use 'constant'??\n",
    "\n",
    "\n",
    "#     # Train data, provide the same seed and keyword arguments to the fit and flow methods\n",
    "#     X_datagen = ImageDataGenerator(**data_gen_args)\n",
    "#     Y_datagen = ImageDataGenerator(**data_gen_args)\n",
    "#     X_datagen.fit(X_train, augment=True, seed=seed)\n",
    "#     Y_datagen.fit(Y_train, augment=True, seed=seed)\n",
    "#     X_train_augmented = X_datagen.flow(X_train, batch_size=batch_size, shuffle=True, seed=seed)\n",
    "#     Y_train_augmented = Y_datagen.flow(Y_train, batch_size=batch_size, shuffle=True, seed=seed)\n",
    "     \n",
    "    \n",
    "#     # Test data, no data augmentation, but we create a generator anyway\n",
    "#     X_datagen_val = ImageDataGenerator()\n",
    "#     Y_datagen_val = ImageDataGenerator()\n",
    "#     X_datagen_val.fit(X_test, augment=True, seed=seed)\n",
    "#     Y_datagen_val.fit(Y_test, augment=True, seed=seed)\n",
    "#     X_test_augmented = X_datagen_val.flow(X_test, batch_size=batch_size, shuffle=True, seed=seed)\n",
    "#     Y_test_augmented = Y_datagen_val.flow(Y_test, batch_size=batch_size, shuffle=True, seed=seed)\n",
    "    \n",
    "    \n",
    "#     # combine generators into one which yields image and masks\n",
    "#     train_generator = zip(X_train_augmented, Y_train_augmented)\n",
    "#     test_generator = zip(X_test_augmented, Y_test_augmented)\n",
    "    \n",
    "#     return train_generator, test_generator"
   ]
  },
  {
   "cell_type": "code",
   "execution_count": 208,
   "metadata": {},
   "outputs": [],
   "source": [
    "# Runtime custom callbacks\n",
    "#%% https://github.com/deepsense-ai/intel-ai-webinar-neural-networks/blob/master/live_loss_plot.py\n",
    "# Fixed code to enable non-flat loss plots on keras model.fit_generator()\n",
    "import matplotlib.pyplot as plt\n",
    "from keras.callbacks import Callback\n",
    "from IPython.display import clear_output\n",
    "#from matplotlib.ticker import FormatStrFormatter\n",
    "\n",
    "def translate_metric(x):\n",
    "    translations = {'acc': \"Accuracy\", 'loss': \"categorical_crossentropy\"}\n",
    "    if x in translations:\n",
    "        return translations[x]\n",
    "    else:\n",
    "        return x\n",
    "\n",
    "class PlotLosses(Callback):\n",
    "    def __init__(self, figsize=None):\n",
    "        super(PlotLosses, self).__init__()\n",
    "        self.figsize = figsize\n",
    "\n",
    "    def on_train_begin(self, logs={}):\n",
    "\n",
    "        self.base_metrics = [metric for metric in self.params['metrics'] if not metric.startswith('val_')]\n",
    "        self.logs = []\n",
    "\n",
    "    def on_epoch_end(self, epoch, logs={}):\n",
    "        self.logs.append(logs.copy())\n",
    "\n",
    "        clear_output(wait=True)\n",
    "        plt.figure(figsize=self.figsize)\n",
    "        \n",
    "        for metric_id, metric in enumerate(self.base_metrics):\n",
    "            plt.subplot(1, len(self.base_metrics), metric_id + 1)\n",
    "            \n",
    "            plt.plot(range(1, len(self.logs) + 1),\n",
    "                     [log[metric] for log in self.logs],\n",
    "                     label=\"training\")\n",
    "            if self.params['do_validation']:\n",
    "                plt.plot(range(1, len(self.logs) + 1),\n",
    "                         [log['val_' + metric] for log in self.logs],\n",
    "                         label=\"validation\")\n",
    "            plt.title(translate_metric(metric))\n",
    "            plt.xlabel('epoch')\n",
    "            plt.legend(loc='center left')\n",
    "        \n",
    "        plt.tight_layout()\n",
    "        plt.show();\n",
    "\n",
    "        try:\n",
    "            #ix = random.randint(0, len(preds_train_t))\n",
    "            ix = random.randint(0, int(process_X_train.shape[0]*0.9))\n",
    "            #ix = 10\n",
    "            plt.figure(figsize=(16, 4))\n",
    "            plt.subplot(1, 6, 1)\n",
    "            plt.title('Raw Image')\n",
    "            plt.xlabel('id: {}'.format(ix))\n",
    "            skimage.io.imshow(X_train[ix])\n",
    "            #plt.show()\n",
    "            plt.subplot(1, 6, 2)\n",
    "            plt.title('True Mask')\n",
    "            plt.xlabel('id: {}'.format(ix))\n",
    "            skimage.io.imshow(np.squeeze(Y_train[ix]))\n",
    "            #plt.show()\n",
    "\n",
    "            plt.subplot(1, 6, 3)\n",
    "            plt.title('Model Input')\n",
    "            plt.xlabel('id: {}'.format(ix))\n",
    "            skimage.io.imshow(np.squeeze(process_X_train[ix]))\n",
    "\n",
    "            y_label = Y_train[ix][:,:,:]\n",
    "            y_label = y_label.reshape(1,y_label.shape[0],y_label.shape[1],1)\n",
    "            weight_mask_tensor = weight_matrix(y_label, epsilon=0.5, filter_size=15) # filter_size=15\n",
    "            weight_mask = tf.Session().run(weight_mask_tensor)\n",
    "            weight_mask = weight_mask.reshape(weight_mask.shape[1],weight_mask.shape[1])\n",
    "            #skimage.io.imshow(weight_mask)\n",
    "            #plt.show()\n",
    "            plt.subplot(1, 6, 4)\n",
    "            plt.title('Weight Mask')\n",
    "            plt.xlabel('id: {}'.format(ix))\n",
    "            plt.imshow(weight_mask, cmap='jet') #cmap='hot'\n",
    "            #plt.colorbar()\n",
    "\n",
    "            preds_train = model.predict(process_X_train[ix].reshape(1,process_X_train[ix].shape[0],process_X_train[ix].shape[1],process_X_train[ix].shape[2]), verbose=1)\n",
    "            plt.subplot(1, 6, 5)\n",
    "            plt.title('Model Output')\n",
    "            plt.xlabel('id: {}'.format(ix))\n",
    "            skimage.io.imshow(np.squeeze(preds_train), cmap='gray')\n",
    "\n",
    "            preds_train_t = (preds_train > 0.5).astype(np.uint8)\n",
    "            plt.subplot(1, 6, 6)\n",
    "            plt.title('Predicted Mask 0.5 Threshold')\n",
    "            plt.xlabel('id: {}'.format(ix))\n",
    "            skimage.io.imshow(np.squeeze(preds_train_t), cmap='gray')\n",
    "\n",
    "            plt.tight_layout()\n",
    "            plt.show()\n",
    "        except:\n",
    "            pass\n",
    "        \n",
    "plot_losses = PlotLosses(figsize=(16, 4))"
   ]
  },
  {
   "cell_type": "code",
   "execution_count": 252,
   "metadata": {},
   "outputs": [
    {
     "name": "stdout",
     "output_type": "stream",
     "text": [
      "_________________________________________________________________\n",
      "Layer (type)                 Output Shape              Param #   \n",
      "=================================================================\n",
      "conv2d_61 (Conv2D)           (None, 128, 128, 64)      1792      \n",
      "_________________________________________________________________\n",
      "max_pooling2d_61 (MaxPooling (None, 64, 64, 64)        0         \n",
      "_________________________________________________________________\n",
      "conv2d_62 (Conv2D)           (None, 64, 64, 64)        36928     \n",
      "_________________________________________________________________\n",
      "max_pooling2d_62 (MaxPooling (None, 32, 32, 64)        0         \n",
      "_________________________________________________________________\n",
      "conv2d_63 (Conv2D)           (None, 32, 32, 32)        18464     \n",
      "_________________________________________________________________\n",
      "max_pooling2d_63 (MaxPooling (None, 16, 16, 32)        0         \n",
      "_________________________________________________________________\n",
      "conv2d_64 (Conv2D)           (None, 16, 16, 32)        9248      \n",
      "_________________________________________________________________\n",
      "max_pooling2d_64 (MaxPooling (None, 8, 8, 32)          0         \n",
      "_________________________________________________________________\n",
      "flatten_16 (Flatten)         (None, 2048)              0         \n",
      "_________________________________________________________________\n",
      "dense_31 (Dense)             (None, 256)               524544    \n",
      "_________________________________________________________________\n",
      "dense_32 (Dense)             (None, 5)                 1285      \n",
      "=================================================================\n",
      "Total params: 592,261\n",
      "Trainable params: 592,261\n",
      "Non-trainable params: 0\n",
      "_________________________________________________________________\n"
     ]
    }
   ],
   "source": [
    "model = keras.Sequential()\n",
    "model.add(keras.layers.Conv2D(64, (3, 3), input_shape = (img_height, img_width, 3), padding = \"same\", activation = \"relu\"))\n",
    "model.add(keras.layers.MaxPooling2D(pool_size = (2, 2)))\n",
    "\n",
    "model.add(keras.layers.Conv2D(64, (3, 3), padding = \"same\", activation = \"relu\"))\n",
    "model.add(keras.layers.MaxPooling2D(pool_size = (2, 2)))\n",
    "\n",
    "model.add(keras.layers.Conv2D(32, (3, 3), padding = \"same\", activation = \"relu\"))\n",
    "model.add(keras.layers.MaxPooling2D(pool_size = (2, 2)))\n",
    "\n",
    "model.add(keras.layers.Conv2D(32, (3, 3), padding = \"same\", activation = \"relu\"))\n",
    "model.add(keras.layers.MaxPooling2D(pool_size = (2, 2)))\n",
    "\n",
    "model.add(keras.layers.Flatten())\n",
    "model.add(keras.layers.Dense(256, activation = \"relu\"))\n",
    "model.add(keras.layers.Dense(Y_train_id.shape[1], activation = \"softmax\"))"
   ]
  },
  {
   "cell_type": "code",
   "execution_count": 289,
   "metadata": {},
   "outputs": [
    {
     "name": "stdout",
     "output_type": "stream",
     "text": [
      "_________________________________________________________________\n",
      "Layer (type)                 Output Shape              Param #   \n",
      "=================================================================\n",
      "conv2d_61 (Conv2D)           (None, 128, 128, 64)      1792      \n",
      "_________________________________________________________________\n",
      "max_pooling2d_61 (MaxPooling (None, 64, 64, 64)        0         \n",
      "_________________________________________________________________\n",
      "conv2d_62 (Conv2D)           (None, 64, 64, 64)        36928     \n",
      "_________________________________________________________________\n",
      "max_pooling2d_62 (MaxPooling (None, 32, 32, 64)        0         \n",
      "_________________________________________________________________\n",
      "conv2d_63 (Conv2D)           (None, 32, 32, 32)        18464     \n",
      "_________________________________________________________________\n",
      "max_pooling2d_63 (MaxPooling (None, 16, 16, 32)        0         \n",
      "_________________________________________________________________\n",
      "conv2d_64 (Conv2D)           (None, 16, 16, 32)        9248      \n",
      "_________________________________________________________________\n",
      "max_pooling2d_64 (MaxPooling (None, 8, 8, 32)          0         \n",
      "_________________________________________________________________\n",
      "flatten_16 (Flatten)         (None, 2048)              0         \n",
      "_________________________________________________________________\n",
      "dense_31 (Dense)             (None, 256)               524544    \n",
      "_________________________________________________________________\n",
      "dense_32 (Dense)             (None, 5)                 1285      \n",
      "=================================================================\n",
      "Total params: 592,261\n",
      "Trainable params: 592,261\n",
      "Non-trainable params: 0\n",
      "_________________________________________________________________\n"
     ]
    }
   ],
   "source": [
    "# Save the model after every epoch\n",
    "checkpoint = ModelCheckpoint('highlight_model.{epoch:02d}-{loss:.5f}-{val_loss:.5f}.h5',  # model filename\n",
    "                             monitor='val_loss', \n",
    "                             verbose=0, \n",
    "                             save_best_only= True, \n",
    "                             mode='auto')\n",
    "\n",
    "reducelr = ReduceLROnPlateau(monitor='val_loss', \n",
    "                             factor=0.1, \n",
    "                             patience=10, \n",
    "                             verbose=0, \n",
    "                             mode='auto', \n",
    "                             min_delta=1.0e-5, \n",
    "                             cooldown=0, \n",
    "                             min_lr=0)\n",
    "\n",
    "adadelta = optimizers.Adadelta(lr=0.4, rho=0.95, epsilon=None, decay=0.01)\n",
    "\n",
    "model.compile(loss='categorical_crossentropy', optimizer=adadelta, metrics=['accuracy'])\n",
    "#model.compile(loss='categorical_crossentropy', optimizer='Adam', metrics=['accuracy'])\n",
    "\n",
    "# model.compile(loss = \"categorical_crossentropy\", optimizer = keras.optimizers.Adamax(), metrics = ['accuracy'])\n",
    "model.summary()"
   ]
  },
  {
   "cell_type": "code",
   "execution_count": 290,
   "metadata": {},
   "outputs": [
    {
     "data": {
      "image/png": "[encoded data removed]",
      "text/plain": [
       "<matplotlib.figure.Figure at 0x2ed2691edd8>"
      ]
     },
     "metadata": {},
     "output_type": "display_data"
    }
   ],
   "source": [
    "# results = model.fit(X_train, Y_train_id, validation_split=0.1, batch_size=8, epochs=80, callbacks=[plot_losses])#, sample_weight=sample_weights)\n",
    "# results = model.fit(X_train, Y_train_id, validation_split=0.1, batch_size=8, epochs=80, callbacks=[plot_losses], sample_weight=sample_weights)\n",
    "\n",
    "results = model.fit(X_train, Y_train_id, validation_data=(X_valid, Y_valid_id, sample_weights_valid), batch_size=8, epochs=80, callbacks=[plot_losses], sample_weight=sample_weights)"
   ]
  },
  {
   "cell_type": "code",
   "execution_count": null,
   "metadata": {},
   "outputs": [],
   "source": [
    "# timestr = time.strftime(\"%Y%m%d-%H%M%S\")\n",
    "# if not os.path.exists(timestr+'/'):\n",
    "#     os.makedirs(timestr+'/')\n",
    "\n",
    "# # change directory to the created folder\n",
    "# os.chdir(timestr+'/')\n",
    "    \n",
    "# # fit network\n",
    "# history = model.fit(train_X, y_train, epochs=125, batch_size=210, validation_data=(test_X, y_test), \n",
    "#                     #callbacks=[checkpoint,TestCallback((test_X, y_test))], verbose=2, shuffle=False)\n",
    "#                     callbacks=[checkpoint,reducelr,TestCallback((test_X, y_test))], verbose=2, shuffle=False)\n",
    "\n",
    "\n",
    "# # # save history score\n",
    "# # with open('trainHistoryDict', 'wb') as file_pi:\n",
    "# #     pickle.dump(history.history, file_pi)\n",
    "\n",
    "# # change back the directory\n",
    "# os.chdir(\"../\")"
   ]
  },
  {
   "cell_type": "code",
   "execution_count": 211,
   "metadata": {},
   "outputs": [],
   "source": [
    "# Plot history for accuracy and loss\n",
    "def plot_model(model_details):\n",
    "    # Create sub-plots\n",
    "    fig, axs = plt.subplots(1,2,figsize=(15,5))\n",
    "    \n",
    "    # Summarize history for accuracy\n",
    "    axs[0].plot(range(1,len(model_details.history['acc'])+1),model_details.history['acc'])\n",
    "    axs[0].plot(range(1,len(model_details.history['val_acc'])+1),model_details.history['val_acc'])\n",
    "    axs[0].set_title('Model Accuracy')\n",
    "    axs[0].set_ylabel('Accuracy')\n",
    "    axs[0].set_xlabel('Epoch')\n",
    "    axs[0].set_xticks(np.arange(1,len(model_details.history['acc'])+1),len(model_details.history['acc'])/10)\n",
    "    axs[0].legend(['train', 'val'], loc='best')\n",
    "    \n",
    "    # Summarize history for loss\n",
    "    axs[1].plot(range(1,len(model_details.history['loss'])+1),model_details.history['loss'])\n",
    "    axs[1].plot(range(1,len(model_details.history['val_loss'])+1),model_details.history['val_loss'])\n",
    "    axs[1].set_title('Model Loss')\n",
    "    axs[1].set_ylabel('Loss')\n",
    "    axs[1].set_xlabel('Epoch')\n",
    "    axs[1].set_xticks(np.arange(1,len(model_details.history['loss'])+1),len(model_details.history['loss'])/10)\n",
    "    axs[1].legend(['train', 'val'], loc='best')\n",
    "    \n",
    "    # Show the plot\n",
    "    plt.show()\n",
    "\n",
    "# Plot confusion matrix of prediction value\n",
    "def plot_confusion_matrix(cm, classes):\n",
    "    cm = cm.astype('float') / cm.sum(axis=1)[:, np.newaxis]\n",
    "    print(\"Normalized confusion matrix\")\n",
    "\n",
    "    plt.imshow(cm, interpolation='nearest', cmap=plt.cm.Blues)\n",
    "    plt.title('Confusion matrix')\n",
    "    plt.colorbar()\n",
    "    tick_marks = np.arange(len(classes))\n",
    "    plt.xticks(tick_marks, classes, rotation=45)\n",
    "    plt.yticks(tick_marks, classes)\n",
    "\n",
    "    fmt = '.2f'\n",
    "    thresh = cm.max() / 2.\n",
    "    for i, j in itertools.product(range(cm.shape[0]), range(cm.shape[1])):\n",
    "        plt.text(j, i, '',\n",
    "                 horizontalalignment=\"center\",\n",
    "                 color=\"white\" if cm[i, j] > thresh else \"black\")\n",
    "\n",
    "    plt.ylabel('True label')\n",
    "    plt.xlabel('Predicted label')\n",
    "    \n",
    "def visualize_errors(test_X, labels_test, class_names, labels_pred, correct):\n",
    "    incorrect = (correct == False)\n",
    "    \n",
    "#     # transpose for neupy format\n",
    "#     images_test *= std\n",
    "#     images_test += mean\n",
    "\n",
    "#     images_test = np.transpose(images_test, (0, 2, 3, 1))\n",
    "    \n",
    "    # Images of the test-set that have been incorrectly classified.\n",
    "    images_error = test_X[incorrect]\n",
    "    print(images_error.shape)\n",
    "    \n",
    "    # Get predicted classes for those images\n",
    "    labels_error = labels_pred[incorrect]\n",
    "    \n",
    "    # Print the unique misclassified classes\n",
    "    print(np.unique(labels_error))\n",
    "    print([id_to_label[i] for i in np.unique(labels_error)])\n",
    "\n",
    "    # Get true classes for those images\n",
    "    labels_true = labels_test[incorrect]\n",
    "    \n",
    "    \n",
    "#     # Plot the first 9 images.\n",
    "#     plot_images(images=images_error[0:9],\n",
    "#                 labels_true=labels_true[0:9],\n",
    "#                 class_names=class_names,\n",
    "#                 labels_pred=labels_error[0:9])\n",
    "\n",
    "    return images_error, labels_true"
   ]
  },
  {
   "cell_type": "code",
   "execution_count": 291,
   "metadata": {},
   "outputs": [
    {
     "name": "stdout",
     "output_type": "stream",
     "text": [
      "             precision    recall  f1-score   support\n",
      "\n",
      "          0       1.00      1.00      1.00        11\n",
      "          1       1.00      1.00      1.00         2\n",
      "          2       1.00      1.00      1.00       797\n",
      "          3       1.00      0.75      0.86         4\n",
      "          4       1.00      1.00      1.00         6\n",
      "\n",
      "avg / total       1.00      1.00      1.00       820\n",
      "\n",
      "Train accuracy: 99.88%\n"
     ]
    }
   ],
   "source": [
    "Y_pred =  model.predict(X_train).argmax(axis=1)\n",
    "Y_test_labels = np.asarray(Y_train_id.argmax(axis=1)).reshape(len(Y_train_id))\n",
    "\n",
    "print(metrics.classification_report(Y_test_labels, Y_pred))\n",
    "score = metrics.accuracy_score(Y_test_labels, Y_pred)\n",
    "print(\"Train accuracy: {:.2%}\".format(score))\n",
    "\n",
    "correct = (Y_pred == Y_test_labels)"
   ]
  },
  {
   "cell_type": "code",
   "execution_count": 292,
   "metadata": {},
   "outputs": [
    {
     "name": "stdout",
     "output_type": "stream",
     "text": [
      "[[ 11   0   0   0   0]\n",
      " [  0   2   0   0   0]\n",
      " [  0   0 797   1   0]\n",
      " [  0   0   0   3   0]\n",
      " [  0   0   0   0   6]]\n",
      "Normalized confusion matrix\n"
     ]
    },
    {
     "data": {
      "image/png": "[encoded data removed]",
      "text/plain": [
       "<matplotlib.figure.Figure at 0x2ed9785e198>"
      ]
     },
     "metadata": {},
     "output_type": "display_data"
    }
   ],
   "source": [
    "cnf_matrix = metrics.confusion_matrix(Y_pred, Y_test_labels)\n",
    "print(cnf_matrix)\n",
    "\n",
    "# Plot confusion matrix\n",
    "plt.figure(figsize=(5,5)) \n",
    "plot_confusion_matrix(cnf_matrix, classes=np.unique(Y_train_id))"
   ]
  },
  {
   "cell_type": "code",
   "execution_count": 293,
   "metadata": {},
   "outputs": [
    {
     "name": "stdout",
     "output_type": "stream",
     "text": [
      "             precision    recall  f1-score   support\n",
      "\n",
      "          0       0.18      0.50      0.27         4\n",
      "          2       0.99      0.97      0.98       266\n",
      "          3       1.00      0.50      0.67         2\n",
      "          4       1.00      1.00      1.00         2\n",
      "\n",
      "avg / total       0.98      0.96      0.97       274\n",
      "\n",
      "Validation accuracy: 95.99%\n"
     ]
    }
   ],
   "source": [
    "Y_pred =  model.predict(X_valid).argmax(axis=1)\n",
    "Y_test_labels = np.asarray(Y_valid_id.argmax(axis=1)).reshape(len(Y_valid_id))\n",
    "\n",
    "print(metrics.classification_report(Y_test_labels, Y_pred))\n",
    "score = metrics.accuracy_score(Y_test_labels, Y_pred)\n",
    "print(\"Validation accuracy: {:.2%}\".format(score))\n",
    "\n",
    "correct = (Y_pred == Y_test_labels)"
   ]
  },
  {
   "cell_type": "code",
   "execution_count": 294,
   "metadata": {},
   "outputs": [
    {
     "name": "stdout",
     "output_type": "stream",
     "text": [
      "[[  2   8   1   0]\n",
      " [  2 258   0   0]\n",
      " [  0   0   1   0]\n",
      " [  0   0   0   2]]\n",
      "Normalized confusion matrix\n"
     ]
    },
    {
     "data": {
      "image/png": "[encoded data removed]",
      "text/plain": [
       "<matplotlib.figure.Figure at 0x2ed9eb77da0>"
      ]
     },
     "metadata": {},
     "output_type": "display_data"
    }
   ],
   "source": [
    "cnf_matrix = metrics.confusion_matrix(Y_pred, Y_test_labels)\n",
    "print(cnf_matrix)\n",
    "\n",
    "# Plot confusion matrix\n",
    "plt.figure(figsize=(5,5)) \n",
    "plot_confusion_matrix(cnf_matrix, classes=np.unique(Y_valid_id))"
   ]
  },
  {
   "cell_type": "code",
   "execution_count": 295,
   "metadata": {},
   "outputs": [
    {
     "name": "stdout",
     "output_type": "stream",
     "text": [
      "(11, 128, 128, 3)\n",
      "[0 2]\n",
      "['double_kill', 'none']\n"
     ]
    }
   ],
   "source": [
    "test_error, test_error_label = visualize_errors(X_valid, Y_test_labels, np.unique(Y_train), Y_pred, correct)"
   ]
  },
  {
   "cell_type": "code",
   "execution_count": 296,
   "metadata": {},
   "outputs": [
    {
     "data": {
      "text/plain": [
       "array([2, 2, 2, 2, 2, 0, 3, 0, 2, 2, 2], dtype=int64)"
      ]
     },
     "execution_count": 296,
     "metadata": {},
     "output_type": "execute_result"
    }
   ],
   "source": [
    "test_error_label"
   ]
  },
  {
   "cell_type": "code",
   "execution_count": 297,
   "metadata": {},
   "outputs": [
    {
     "data": {
      "image/png": "[encoded data removed]",
      "text/plain": [
       "<matplotlib.figure.Figure at 0x2ed9f777400>"
      ]
     },
     "metadata": {},
     "output_type": "display_data"
    }
   ],
   "source": [
    "# Random show some sample erros\n",
    "\n",
    "display = min(5, test_error.shape[0]) # if less than 5\n",
    "top_class = 5\n",
    "\n",
    "idx = np.random.choice(len(test_error), display, replace=False)\n",
    "testing = test_error[idx]\n",
    "#true_label = np.squeeze(np.asarray(y_test))[idx] # convert matrix to array\n",
    "true_label = test_error_label[idx]\n",
    "\n",
    "p = model.predict(testing)\n",
    "\n",
    "plt.figure(figsize=(15,display))\n",
    "for i in range(len(idx)):\n",
    "    \n",
    "#     plt.subplot(display,2,2*i+1)\n",
    "#     #plt.tight_layout()\n",
    "#     plt.bar(range(2),[l for l in true_label[i]])\n",
    "#     #plt.xticks(range(2), [l for l in true_label[i]])\n",
    "#     plt.xticks(range(2), [id_to_label[l] for l in id_to_label])\n",
    "#     plt.title('Actual Label')\n",
    "\n",
    "    \n",
    "    \n",
    "    pred_label = np.argsort(-p[i])[:top_class]\n",
    "    pred_prob = [p[i][l] for l in pred_label]\n",
    "    pred_label = [id_to_label[l] for l in pred_label]\n",
    "    \n",
    "    #plt.subplot(display,1,j,figsize=(15,5))\n",
    "    #plt.subplot(display,2,2*i+2)\n",
    "\n",
    "    plt.subplot(1,top_class,i+1)\n",
    "\n",
    "#     plt.tight_layout()\n",
    "    plt.bar(range(top_class),pred_prob)\n",
    "    plt.xticks(range(top_class), pred_label)\n",
    "    plt.xticks(rotation=90)\n",
    "    plt.title('Actual:{}'.format((id_to_label[true_label[i]])))\n",
    "    \n",
    "    #plt.show()\n",
    "    \n",
    "#     plt.show()\n",
    "# plt.subplots_adjust(top=1,bottom=-5,left=-0.05,right=1.05)\n",
    "plt.tight_layout()\n",
    "plt.show()"
   ]
  },
  {
   "cell_type": "code",
   "execution_count": 298,
   "metadata": {},
   "outputs": [
    {
     "data": {
      "text/plain": [
       "{0: 'double_kill', 1: 'first_blood', 2: 'none', 3: 'triple_kill', 4: 'wipe'}"
      ]
     },
     "execution_count": 298,
     "metadata": {},
     "output_type": "execute_result"
    }
   ],
   "source": [
    "id_to_label"
   ]
  },
  {
   "cell_type": "code",
   "execution_count": 309,
   "metadata": {},
   "outputs": [
    {
     "data": {
      "text/plain": [
       "[27, 31]"
      ]
     },
     "execution_count": 309,
     "metadata": {},
     "output_type": "execute_result"
    }
   ],
   "source": [
    "def find_idx(Y_pred, target):\n",
    "    target_idx = []\n",
    "    for i in range(len(Y_pred)):\n",
    "        if Y_pred[i]==target:\n",
    "            target_idx.append(i)\n",
    "    return target_idx\n",
    "\n",
    "Y_pred =  model.predict(X_valid).argmax(axis=1)\n",
    "find_idx(Y_pred, 4)"
   ]
  },
  {
   "cell_type": "code",
   "execution_count": 284,
   "metadata": {},
   "outputs": [
    {
     "data": {
      "text/plain": [
       "<matplotlib.image.AxesImage at 0x2ee3fbaf438>"
      ]
     },
     "execution_count": 284,
     "metadata": {},
     "output_type": "execute_result"
    },
    {
     "data": {
      "image/png": "[encoded data removed]",
      "text/plain": [
       "<matplotlib.figure.Figure at 0x2ed9a897f98>"
      ]
     },
     "metadata": {},
     "output_type": "display_data"
    }
   ],
   "source": [
    "plt.imshow(X_valid[226])"
   ]
  },
  {
   "cell_type": "code",
   "execution_count": 308,
   "metadata": {},
   "outputs": [],
   "source": [
    "model.save(\"highlight_model.h5\")\n",
    "\n",
    "# # # load model\n",
    "# model = load_model('highlight_model.h5')"
   ]
  },
  {
   "cell_type": "code",
   "execution_count": 307,
   "metadata": {},
   "outputs": [],
   "source": [
    "# import pickle \n",
    "\n",
    "# pkl_filename = \"highlight_model.pkl\"\n",
    "# with open(pkl_filename, 'wb') as file:\n",
    "#     pickle.dump(model, file)\n"
   ]
  },
  {
   "cell_type": "code",
   "execution_count": null,
   "metadata": {},
   "outputs": [],
   "source": []
  },
  {
   "cell_type": "code",
   "execution_count": null,
   "metadata": {},
   "outputs": [],
   "source": []
  },
  {
   "cell_type": "code",
   "execution_count": null,
   "metadata": {},
   "outputs": [],
   "source": []
  },
  {
   "cell_type": "code",
   "execution_count": null,
   "metadata": {},
   "outputs": [],
   "source": [
    "results = model.fitgenerator(X_train, Y_train_id, validation_split=0.1, batch_size=8, epochs=150, callbacks=[plot_losses], sample_weight=sample_weights)"
   ]
  },
  {
   "cell_type": "code",
   "execution_count": null,
   "metadata": {},
   "outputs": [],
   "source": [
    "# model.fit_generator(get_train_test_augmented(X_data=X_train, Y_data=Y_train_id), samples_per_epoch = 60000, nb_epoch = 2, verbose=2, show_accuracy=True, callbacks=[plot_losses], validation_data=None, class_weight=None)"
   ]
  },
  {
   "cell_type": "code",
   "execution_count": 140,
   "metadata": {},
   "outputs": [
    {
     "data": {
      "text/plain": [
       "array([[1.00000000e+00, 3.40923609e-11, 2.87797430e-08, 2.96634829e-34,\n",
       "        1.33032941e-31],\n",
       "       [1.00000000e+00, 5.49895773e-09, 2.92274951e-08, 3.42589820e-33,\n",
       "        1.08997930e-30],\n",
       "       [1.00000000e+00, 7.01520116e-20, 9.29527921e-09, 1.61168448e-37,\n",
       "        2.63194017e-35],\n",
       "       ...,\n",
       "       [1.30735512e-21, 3.41807822e-26, 1.00000000e+00, 0.00000000e+00,\n",
       "        0.00000000e+00],\n",
       "       [1.06100605e-26, 2.11638636e-30, 1.00000000e+00, 0.00000000e+00,\n",
       "        0.00000000e+00],\n",
       "       [3.83219193e-23, 1.33771236e-25, 1.00000000e+00, 0.00000000e+00,\n",
       "        0.00000000e+00]], dtype=float32)"
      ]
     },
     "execution_count": 140,
     "metadata": {},
     "output_type": "execute_result"
    }
   ],
   "source": [
    "Y_pred = model.predict(X_train)\n",
    "Y_pred"
   ]
  },
  {
   "cell_type": "code",
   "execution_count": null,
   "metadata": {},
   "outputs": [],
   "source": []
  },
  {
   "cell_type": "code",
   "execution_count": null,
   "metadata": {},
   "outputs": [],
   "source": [
    "# class weight for class balancing"
   ]
  },
  {
   "cell_type": "code",
   "execution_count": null,
   "metadata": {},
   "outputs": [],
   "source": []
  },
  {
   "cell_type": "code",
   "execution_count": null,
   "metadata": {},
   "outputs": [],
   "source": []
  },
  {
   "cell_type": "code",
   "execution_count": null,
   "metadata": {},
   "outputs": [],
   "source": []
  },
  {
   "cell_type": "code",
   "execution_count": 91,
   "metadata": {},
   "outputs": [
    {
     "name": "stdout",
     "output_type": "stream",
     "text": [
      "Epoch 1/100\n",
      "4/4 [==============================] - 1s 165ms/step - loss: 8.6439 - acc: 0.2500\n",
      "Epoch 2/100\n",
      "4/4 [==============================] - 0s 4ms/step - loss: 12.0886 - acc: 0.2500\n",
      "Epoch 3/100\n",
      "4/4 [==============================] - 0s 5ms/step - loss: 12.0886 - acc: 0.2500\n",
      "Epoch 4/100\n",
      "4/4 [==============================] - 0s 4ms/step - loss: 12.0886 - acc: 0.2500\n",
      "Epoch 5/100\n",
      "4/4 [==============================] - 0s 4ms/step - loss: 12.0886 - acc: 0.2500\n",
      "Epoch 6/100\n",
      "4/4 [==============================] - 0s 4ms/step - loss: 12.0886 - acc: 0.2500\n",
      "Epoch 7/100\n",
      "4/4 [==============================] - 0s 6ms/step - loss: 12.0886 - acc: 0.2500\n",
      "Epoch 8/100\n",
      "4/4 [==============================] - 0s 4ms/step - loss: 12.0886 - acc: 0.2500\n",
      "Epoch 9/100\n",
      "4/4 [==============================] - 0s 5ms/step - loss: 12.0886 - acc: 0.2500\n",
      "Epoch 10/100\n",
      "4/4 [==============================] - 0s 6ms/step - loss: 12.0886 - acc: 0.2500\n",
      "Epoch 11/100\n",
      "4/4 [==============================] - 0s 5ms/step - loss: 12.0886 - acc: 0.2500\n",
      "Epoch 12/100\n",
      "4/4 [==============================] - 0s 4ms/step - loss: 12.0886 - acc: 0.2500\n",
      "Epoch 13/100\n",
      "4/4 [==============================] - 0s 5ms/step - loss: 12.0886 - acc: 0.2500\n",
      "Epoch 14/100\n",
      "4/4 [==============================] - 0s 5ms/step - loss: 12.0886 - acc: 0.2500\n",
      "Epoch 15/100\n",
      "4/4 [==============================] - 0s 6ms/step - loss: 12.0886 - acc: 0.2500\n",
      "Epoch 16/100\n",
      "4/4 [==============================] - 0s 4ms/step - loss: 12.0886 - acc: 0.2500\n",
      "Epoch 17/100\n",
      "4/4 [==============================] - 0s 6ms/step - loss: 12.0886 - acc: 0.2500\n",
      "Epoch 18/100\n",
      "4/4 [==============================] - 0s 6ms/step - loss: 12.0886 - acc: 0.2500\n",
      "Epoch 19/100\n",
      "4/4 [==============================] - 0s 4ms/step - loss: 12.0886 - acc: 0.2500\n",
      "Epoch 20/100\n",
      "4/4 [==============================] - 0s 5ms/step - loss: 12.0886 - acc: 0.2500\n",
      "Epoch 21/100\n",
      "4/4 [==============================] - 0s 4ms/step - loss: 12.0886 - acc: 0.2500\n",
      "Epoch 22/100\n",
      "4/4 [==============================] - 0s 5ms/step - loss: 12.0886 - acc: 0.2500\n",
      "Epoch 23/100\n",
      "4/4 [==============================] - 0s 4ms/step - loss: 12.0886 - acc: 0.2500\n",
      "Epoch 24/100\n",
      "4/4 [==============================] - 0s 4ms/step - loss: 12.0886 - acc: 0.2500\n",
      "Epoch 25/100\n",
      "4/4 [==============================] - 0s 7ms/step - loss: 12.0886 - acc: 0.2500\n",
      "Epoch 26/100\n",
      "4/4 [==============================] - 0s 5ms/step - loss: 12.0886 - acc: 0.2500\n",
      "Epoch 27/100\n",
      "4/4 [==============================] - 0s 5ms/step - loss: 12.0886 - acc: 0.2500\n",
      "Epoch 28/100\n",
      "4/4 [==============================] - 0s 6ms/step - loss: 12.0886 - acc: 0.2500\n",
      "Epoch 29/100\n",
      "4/4 [==============================] - 0s 5ms/step - loss: 12.0886 - acc: 0.2500\n",
      "Epoch 30/100\n",
      "4/4 [==============================] - 0s 10ms/step - loss: 12.0886 - acc: 0.2500\n",
      "Epoch 31/100\n",
      "4/4 [==============================] - 0s 5ms/step - loss: 12.0886 - acc: 0.2500\n",
      "Epoch 32/100\n",
      "4/4 [==============================] - 0s 6ms/step - loss: 12.0886 - acc: 0.2500\n",
      "Epoch 33/100\n",
      "4/4 [==============================] - 0s 5ms/step - loss: 12.0886 - acc: 0.2500\n",
      "Epoch 34/100\n",
      "4/4 [==============================] - 0s 4ms/step - loss: 12.0886 - acc: 0.2500\n",
      "Epoch 35/100\n",
      "4/4 [==============================] - 0s 4ms/step - loss: 12.0886 - acc: 0.2500\n",
      "Epoch 36/100\n",
      "4/4 [==============================] - 0s 4ms/step - loss: 12.0886 - acc: 0.2500\n",
      "Epoch 37/100\n",
      "4/4 [==============================] - 0s 5ms/step - loss: 12.0886 - acc: 0.2500\n",
      "Epoch 38/100\n",
      "4/4 [==============================] - 0s 5ms/step - loss: 12.0886 - acc: 0.2500\n",
      "Epoch 39/100\n",
      "4/4 [==============================] - 0s 4ms/step - loss: 12.0886 - acc: 0.2500\n",
      "Epoch 40/100\n",
      "4/4 [==============================] - 0s 4ms/step - loss: 12.0886 - acc: 0.2500\n",
      "Epoch 41/100\n",
      "4/4 [==============================] - 0s 4ms/step - loss: 12.0886 - acc: 0.2500\n",
      "Epoch 42/100\n",
      "4/4 [==============================] - 0s 5ms/step - loss: 12.0886 - acc: 0.2500\n",
      "Epoch 43/100\n",
      "4/4 [==============================] - 0s 4ms/step - loss: 12.0886 - acc: 0.2500\n",
      "Epoch 44/100\n",
      "4/4 [==============================] - 0s 5ms/step - loss: 12.0886 - acc: 0.2500\n",
      "Epoch 45/100\n",
      "4/4 [==============================] - 0s 5ms/step - loss: 12.0886 - acc: 0.2500\n",
      "Epoch 46/100\n",
      "4/4 [==============================] - 0s 4ms/step - loss: 12.0886 - acc: 0.2500\n",
      "Epoch 47/100\n",
      "4/4 [==============================] - 0s 4ms/step - loss: 12.0886 - acc: 0.2500\n",
      "Epoch 48/100\n",
      "4/4 [==============================] - 0s 4ms/step - loss: 12.0886 - acc: 0.2500\n",
      "Epoch 49/100\n",
      "4/4 [==============================] - 0s 4ms/step - loss: 12.0886 - acc: 0.2500\n",
      "Epoch 50/100\n",
      "4/4 [==============================] - 0s 4ms/step - loss: 12.0886 - acc: 0.2500\n",
      "Epoch 51/100\n",
      "4/4 [==============================] - 0s 4ms/step - loss: 12.0886 - acc: 0.2500\n",
      "Epoch 52/100\n",
      "4/4 [==============================] - 0s 4ms/step - loss: 12.0886 - acc: 0.2500\n",
      "Epoch 53/100\n",
      "4/4 [==============================] - 0s 4ms/step - loss: 12.0886 - acc: 0.2500\n",
      "Epoch 54/100\n",
      "4/4 [==============================] - 0s 5ms/step - loss: 12.0886 - acc: 0.2500\n",
      "Epoch 55/100\n",
      "4/4 [==============================] - 0s 6ms/step - loss: 12.0886 - acc: 0.2500\n",
      "Epoch 56/100\n",
      "4/4 [==============================] - 0s 4ms/step - loss: 12.0886 - acc: 0.2500\n",
      "Epoch 57/100\n",
      "4/4 [==============================] - 0s 3ms/step - loss: 12.0886 - acc: 0.2500\n",
      "Epoch 58/100\n",
      "4/4 [==============================] - 0s 4ms/step - loss: 12.0886 - acc: 0.2500\n",
      "Epoch 59/100\n",
      "4/4 [==============================] - 0s 4ms/step - loss: 12.0886 - acc: 0.2500\n",
      "Epoch 60/100\n",
      "4/4 [==============================] - 0s 3ms/step - loss: 12.0886 - acc: 0.2500\n",
      "Epoch 61/100\n",
      "4/4 [==============================] - 0s 5ms/step - loss: 12.0886 - acc: 0.2500\n",
      "Epoch 62/100\n",
      "4/4 [==============================] - 0s 4ms/step - loss: 12.0886 - acc: 0.2500\n",
      "Epoch 63/100\n",
      "4/4 [==============================] - 0s 4ms/step - loss: 12.0886 - acc: 0.2500\n",
      "Epoch 64/100\n",
      "4/4 [==============================] - 0s 5ms/step - loss: 12.0886 - acc: 0.2500\n",
      "Epoch 65/100\n",
      "4/4 [==============================] - 0s 6ms/step - loss: 12.0886 - acc: 0.2500\n",
      "Epoch 66/100\n",
      "4/4 [==============================] - 0s 6ms/step - loss: 12.0886 - acc: 0.2500\n",
      "Epoch 67/100\n",
      "4/4 [==============================] - 0s 5ms/step - loss: 12.0886 - acc: 0.2500\n",
      "Epoch 68/100\n",
      "4/4 [==============================] - 0s 4ms/step - loss: 12.0886 - acc: 0.2500\n",
      "Epoch 69/100\n",
      "4/4 [==============================] - 0s 6ms/step - loss: 12.0886 - acc: 0.2500\n",
      "Epoch 70/100\n",
      "4/4 [==============================] - 0s 6ms/step - loss: 12.0886 - acc: 0.2500\n",
      "Epoch 71/100\n",
      "4/4 [==============================] - 0s 4ms/step - loss: 12.0886 - acc: 0.2500\n",
      "Epoch 72/100\n",
      "4/4 [==============================] - 0s 4ms/step - loss: 12.0886 - acc: 0.2500\n",
      "Epoch 73/100\n",
      "4/4 [==============================] - 0s 5ms/step - loss: 12.0886 - acc: 0.2500\n",
      "Epoch 74/100\n",
      "4/4 [==============================] - 0s 6ms/step - loss: 12.0886 - acc: 0.2500\n",
      "Epoch 75/100\n",
      "4/4 [==============================] - 0s 7ms/step - loss: 12.0886 - acc: 0.2500\n",
      "Epoch 76/100\n",
      "4/4 [==============================] - 0s 5ms/step - loss: 12.0886 - acc: 0.2500\n",
      "Epoch 77/100\n",
      "4/4 [==============================] - 0s 4ms/step - loss: 12.0886 - acc: 0.2500\n",
      "Epoch 78/100\n",
      "4/4 [==============================] - 0s 5ms/step - loss: 12.0886 - acc: 0.2500\n",
      "Epoch 79/100\n",
      "4/4 [==============================] - 0s 9ms/step - loss: 12.0886 - acc: 0.2500\n",
      "Epoch 80/100\n",
      "4/4 [==============================] - 0s 8ms/step - loss: 12.0886 - acc: 0.2500\n",
      "Epoch 81/100\n",
      "4/4 [==============================] - 0s 4ms/step - loss: 12.0886 - acc: 0.2500\n",
      "Epoch 82/100\n",
      "4/4 [==============================] - 0s 4ms/step - loss: 12.0886 - acc: 0.2500\n",
      "Epoch 83/100\n",
      "4/4 [==============================] - 0s 6ms/step - loss: 12.0886 - acc: 0.2500\n",
      "Epoch 84/100\n",
      "4/4 [==============================] - 0s 5ms/step - loss: 12.0886 - acc: 0.2500\n",
      "Epoch 85/100\n",
      "4/4 [==============================] - 0s 4ms/step - loss: 12.0886 - acc: 0.2500\n",
      "Epoch 86/100\n",
      "4/4 [==============================] - 0s 5ms/step - loss: 12.0886 - acc: 0.2500\n",
      "Epoch 87/100\n",
      "4/4 [==============================] - 0s 4ms/step - loss: 12.0886 - acc: 0.2500\n",
      "Epoch 88/100\n",
      "4/4 [==============================] - 0s 4ms/step - loss: 12.0886 - acc: 0.2500\n"
     ]
    },
    {
     "name": "stdout",
     "output_type": "stream",
     "text": [
      "Epoch 89/100\n",
      "4/4 [==============================] - 0s 5ms/step - loss: 12.0886 - acc: 0.2500\n",
      "Epoch 90/100\n",
      "4/4 [==============================] - 0s 4ms/step - loss: 12.0886 - acc: 0.2500\n",
      "Epoch 91/100\n",
      "4/4 [==============================] - 0s 4ms/step - loss: 12.0886 - acc: 0.2500\n",
      "Epoch 92/100\n",
      "4/4 [==============================] - 0s 4ms/step - loss: 12.0886 - acc: 0.2500\n",
      "Epoch 93/100\n",
      "4/4 [==============================] - 0s 5ms/step - loss: 12.0886 - acc: 0.2500\n",
      "Epoch 94/100\n",
      "4/4 [==============================] - 0s 5ms/step - loss: 12.0886 - acc: 0.2500\n",
      "Epoch 95/100\n",
      "4/4 [==============================] - 0s 4ms/step - loss: 12.0886 - acc: 0.2500\n",
      "Epoch 96/100\n",
      "4/4 [==============================] - 0s 5ms/step - loss: 12.0886 - acc: 0.2500\n",
      "Epoch 97/100\n",
      "4/4 [==============================] - 0s 5ms/step - loss: 12.0886 - acc: 0.2500\n",
      "Epoch 98/100\n",
      "4/4 [==============================] - 0s 5ms/step - loss: 12.0886 - acc: 0.2500\n",
      "Epoch 99/100\n",
      "4/4 [==============================] - 0s 5ms/step - loss: 12.0886 - acc: 0.2500\n",
      "Epoch 100/100\n",
      "4/4 [==============================] - 0s 5ms/step - loss: 12.0886 - acc: 0.2500\n"
     ]
    },
    {
     "data": {
      "text/plain": [
       "<keras.callbacks.History at 0x2ed26367b70>"
      ]
     },
     "execution_count": 91,
     "metadata": {},
     "output_type": "execute_result"
    }
   ],
   "source": [
    "model.fit(X_train, Y_train_id, batch_size = 128, epochs = 100)"
   ]
  },
  {
   "cell_type": "code",
   "execution_count": null,
   "metadata": {},
   "outputs": [],
   "source": []
  },
  {
   "cell_type": "code",
   "execution_count": null,
   "metadata": {},
   "outputs": [],
   "source": []
  },
  {
   "cell_type": "code",
   "execution_count": null,
   "metadata": {},
   "outputs": [],
   "source": []
  },
  {
   "cell_type": "code",
   "execution_count": null,
   "metadata": {},
   "outputs": [],
   "source": []
  },
  {
   "cell_type": "code",
   "execution_count": null,
   "metadata": {},
   "outputs": [],
   "source": []
  },
  {
   "cell_type": "code",
   "execution_count": null,
   "metadata": {},
   "outputs": [],
   "source": []
  },
  {
   "cell_type": "code",
   "execution_count": null,
   "metadata": {},
   "outputs": [],
   "source": []
  },
  {
   "cell_type": "code",
   "execution_count": null,
   "metadata": {},
   "outputs": [],
   "source": []
  }
 ],
 "metadata": {
  "kernelspec": {
   "display_name": "Python 3",
   "language": "python",
   "name": "python3"
  },
  "language_info": {
   "codemirror_mode": {
    "name": "ipython",
    "version": 3
   },
   "file_extension": ".py",
   "mimetype": "text/x-python",
   "name": "python",
   "nbconvert_exporter": "python",
   "pygments_lexer": "ipython3",
   "version": "3.6.4"
  }
 },
 "nbformat": 4,
 "nbformat_minor": 2
}
